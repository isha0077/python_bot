{
  "nbformat": 4,
  "nbformat_minor": 0,
  "metadata": {
    "colab": {
      "name": "pythBot.py",
      "provenance": []
    },
    "kernelspec": {
      "name": "python3",
      "display_name": "Python 3"
    },
    "language_info": {
      "name": "python"
    }
  },
  "cells": [
    {
      "cell_type": "code",
      "execution_count": null,
      "metadata": {
        "id": "_dR2Dx_cPTFR"
      },
      "outputs": [],
      "source": [
        "import re\n",
        "import long_responses as long\n",
        "\n",
        "def message_probability(user_message, recognised_words, single_response=false, required_words=()):\n",
        "  message_certainty = 0\n",
        "  has_required_words = True\n",
        "\n",
        "  for word in user_message:\n",
        "    if word in recognised_words:\n",
        "      message_certainty += 1\n",
        "\n",
        "  percentage = float(message_certainty) / float(len(recogised_words)) \n",
        "\n",
        "\n",
        "  for word in required_words:\n",
        "   if word not in user_message:\n",
        "    has_required_words = False\n",
        "    break\n",
        "\n",
        "  if has_required_words or single_response:\n",
        "    return int(percentage*100)\n",
        "  else:\n",
        "    return 0\n",
        "\n",
        "def check_all_messages(message):\n",
        "   highest_prob_list ={}\n",
        "\n",
        "   def response(bot_response, list_of_words, single_response=False, required_words=()):\n",
        "      nonlocal highest_prob_list\n",
        "      highest_prob_list[bot_response] = message_probability(message, list_of_words, single_response, required_words)\n",
        "   \n",
        "   response('Hello!', ['hello', 'hi', 'sup', 'hey', 'heyo'], single_response=True)\n",
        "   response('I\\'m doing fine, and you?', ['how', 'are', 'you', 'doing'], requires_words=['code', 'palace'])\n",
        "   response('Thank you!', ['i', 'love', 'coding'], required_words=['coding'])\n",
        "   \n",
        "   response(long.R_EATING, ['what', 'you', 'eat'], required_words=['you', 'eat'])\n",
        "   best_match = max(highest_prob_list, key=highest_prob_list.get())\n",
        "   #print(highest_prob_list)\n",
        "\n",
        "   return long.unknown() if highest_prob_list[best_match] < 1  else best_match\n",
        "\n",
        "def get_response(user_input):\n",
        "  split_message = re.split(r'\\s+|[,;?!.-]\\s*', user_input.lower())\n",
        "  response = check_all_messages(split_message)\n",
        "  return response\n",
        "\n",
        "while True:\n",
        "  print('Bot: '+ get_response(input('You: ')))"
      ]
    },
    {
      "cell_type": "code",
      "source": [
        "long_responses.py\n",
        "\n",
        "import random\n",
        "\n",
        "R_EATING = \"I dont like eating anything because I'm a bot obviously!\"\n",
        "\n",
        "\n",
        "def  unknown():\n",
        "   response = ['Could you please re-phrase that?',\n",
        "               \"...\",\n",
        "               \"sounds about right\",\n",
        "               \"What does that mean?\"][random.randrange(4)]\n",
        "   return response"
      ],
      "metadata": {
        "id": "3qakO8wOYTn6"
      },
      "execution_count": null,
      "outputs": []
    },
    {
      "cell_type": "code",
      "source": [
        ""
      ],
      "metadata": {
        "id": "BdFmwcG7S3fc"
      },
      "execution_count": null,
      "outputs": []
    }
  ]
}